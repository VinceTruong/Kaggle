{
 "cells": [
  {
   "cell_type": "code",
   "execution_count": 1,
   "metadata": {},
   "outputs": [],
   "source": [
    "import numpy as np\n",
    "import pandas as pd\n",
    "from matplotlib import pyplot as plt"
   ]
  },
  {
   "cell_type": "code",
   "execution_count": 2,
   "metadata": {},
   "outputs": [],
   "source": [
    "from sklearn.compose import ColumnTransformer\n",
    "from sklearn.pipeline import Pipeline\n",
    "from sklearn.impute import SimpleImputer\n",
    "from sklearn.preprocessing import StandardScaler\n",
    "from sklearn.preprocessing import OneHotEncoder\n",
    "from sklearn.ensemble import RandomForestRegressor\n",
    "from sklearn.metrics import mean_squared_error"
   ]
  },
  {
   "cell_type": "code",
   "execution_count": 3,
   "metadata": {},
   "outputs": [],
   "source": [
    "X_full = pd.read_csv('train.csv', index_col='id')\n",
    "X_test_full = pd.read_csv('test.csv', index_col='id')"
   ]
  },
  {
   "cell_type": "code",
   "execution_count": 4,
   "metadata": {},
   "outputs": [],
   "source": [
    "X_full.dropna(subset=['target'], axis=0, inplace=True)\n",
    "y = X_full.target\n",
    "X_full.drop('target', axis=1, inplace=True)"
   ]
  },
  {
   "cell_type": "code",
   "execution_count": null,
   "metadata": {},
   "outputs": [],
   "source": []
  },
  {
   "cell_type": "code",
   "execution_count": 5,
   "metadata": {},
   "outputs": [],
   "source": [
    "from sklearn.model_selection import train_test_split"
   ]
  },
  {
   "cell_type": "code",
   "execution_count": 13,
   "metadata": {},
   "outputs": [],
   "source": [
    "X_train_full, X_valid_full, y_train, y_valid = train_test_split(X_full, y, test_size=0.2, random_state=1)"
   ]
  },
  {
   "cell_type": "code",
   "execution_count": 14,
   "metadata": {},
   "outputs": [],
   "source": [
    "num_cols = [col for col in X_train_full.columns if X_train_full[col].dtypes in ['int64', 'float64']]\n",
    "\n",
    "cat_cols = [col for col in X_train_full.columns if X_train_full[col].nunique() < 10 and X_train_full[col].dtype == 'object']"
   ]
  },
  {
   "cell_type": "code",
   "execution_count": 15,
   "metadata": {},
   "outputs": [],
   "source": [
    "my_cols = num_cols + cat_cols\n",
    "\n",
    "X_train = X_train_full[my_cols].copy()\n",
    "X_valid = X_valid_full[my_cols].copy()\n",
    "X_test = X_test_full[my_cols].copy()"
   ]
  },
  {
   "cell_type": "code",
   "execution_count": null,
   "metadata": {},
   "outputs": [],
   "source": []
  },
  {
   "cell_type": "markdown",
   "metadata": {},
   "source": [
    "# Train"
   ]
  },
  {
   "cell_type": "code",
   "execution_count": 16,
   "metadata": {},
   "outputs": [],
   "source": [
    "num_trans = Pipeline(steps=[('imputer', SimpleImputer(strategy='mean')),\n",
    "                            ('std_scaler', StandardScaler())])\n",
    "\n",
    "cat_trans = Pipeline(steps=[('imputer', SimpleImputer(strategy='most_frequent')),\n",
    "                            ('onehot', OneHotEncoder(handle_unknown='ignore'))])"
   ]
  },
  {
   "cell_type": "code",
   "execution_count": 17,
   "metadata": {},
   "outputs": [],
   "source": [
    "preprocessor = ColumnTransformer(transformers=[('num', num_trans, num_cols),\n",
    "                                               ('cat', cat_trans, cat_cols)])"
   ]
  },
  {
   "cell_type": "code",
   "execution_count": 18,
   "metadata": {},
   "outputs": [],
   "source": [
    "my_model = RandomForestRegressor(n_estimators=100, random_state=1)"
   ]
  },
  {
   "cell_type": "code",
   "execution_count": 19,
   "metadata": {},
   "outputs": [],
   "source": [
    "models = Pipeline(steps=[('preprocessor', preprocessor), ('model', my_model)])"
   ]
  },
  {
   "cell_type": "code",
   "execution_count": 20,
   "metadata": {},
   "outputs": [
    {
     "data": {
      "text/plain": [
       "Pipeline(steps=[('preprocessor',\n",
       "                 ColumnTransformer(transformers=[('num',\n",
       "                                                  Pipeline(steps=[('imputer',\n",
       "                                                                   SimpleImputer()),\n",
       "                                                                  ('std_scaler',\n",
       "                                                                   StandardScaler())]),\n",
       "                                                  ['cont0', 'cont1', 'cont2',\n",
       "                                                   'cont3', 'cont4', 'cont5',\n",
       "                                                   'cont6', 'cont7', 'cont8',\n",
       "                                                   'cont9', 'cont10', 'cont11',\n",
       "                                                   'cont12', 'cont13']),\n",
       "                                                 ('cat',\n",
       "                                                  Pipeline(steps=[('imputer',\n",
       "                                                                   SimpleImputer(strategy='most_frequent')),\n",
       "                                                                  ('onehot',\n",
       "                                                                   OneHotEncoder(handle_unknown='ignore'))]),\n",
       "                                                  ['cat0', 'cat1', 'cat2',\n",
       "                                                   'cat3', 'cat4', 'cat5',\n",
       "                                                   'cat6', 'cat7', 'cat8'])])),\n",
       "                ('model', RandomForestRegressor(random_state=1))])"
      ]
     },
     "execution_count": 20,
     "metadata": {},
     "output_type": "execute_result"
    }
   ],
   "source": [
    "models.fit(X_train, y_train)"
   ]
  },
  {
   "cell_type": "code",
   "execution_count": 21,
   "metadata": {},
   "outputs": [
    {
     "name": "stdout",
     "output_type": "stream",
     "text": [
      "RMSE: 0.27532106087588787\n",
      "RMSE: 0.7330639419445089\n"
     ]
    }
   ],
   "source": [
    "pr = models.predict(X_train)\n",
    "preds = models.predict(X_valid)\n",
    "print('RMSE:', mean_squared_error(y_train, pr, squared=False))\n",
    "print('RMSE:', mean_squared_error(y_valid, preds, squared=False))"
   ]
  },
  {
   "cell_type": "code",
   "execution_count": null,
   "metadata": {},
   "outputs": [],
   "source": [
    "RMSE: 0.2753472447284073\n",
    "RMSE: 0.7331196969184158"
   ]
  },
  {
   "cell_type": "code",
   "execution_count": null,
   "metadata": {},
   "outputs": [],
   "source": []
  },
  {
   "cell_type": "code",
   "execution_count": 22,
   "metadata": {},
   "outputs": [],
   "source": [
    "preds_test = models.predict(X_test)"
   ]
  },
  {
   "cell_type": "code",
   "execution_count": 23,
   "metadata": {},
   "outputs": [],
   "source": [
    "output = pd.DataFrame({'id': X_test.index, 'target': preds_test})\n",
    "\n",
    "output.to_csv('submission.csv', index=False)"
   ]
  },
  {
   "cell_type": "code",
   "execution_count": null,
   "metadata": {},
   "outputs": [],
   "source": []
  },
  {
   "cell_type": "code",
   "execution_count": null,
   "metadata": {},
   "outputs": [],
   "source": []
  },
  {
   "cell_type": "code",
   "execution_count": null,
   "metadata": {},
   "outputs": [],
   "source": []
  },
  {
   "cell_type": "code",
   "execution_count": null,
   "metadata": {},
   "outputs": [],
   "source": []
  },
  {
   "cell_type": "code",
   "execution_count": null,
   "metadata": {},
   "outputs": [],
   "source": []
  },
  {
   "cell_type": "code",
   "execution_count": 24,
   "metadata": {},
   "outputs": [
    {
     "data": {
      "text/html": [
       "<div>\n",
       "<style scoped>\n",
       "    .dataframe tbody tr th:only-of-type {\n",
       "        vertical-align: middle;\n",
       "    }\n",
       "\n",
       "    .dataframe tbody tr th {\n",
       "        vertical-align: top;\n",
       "    }\n",
       "\n",
       "    .dataframe thead th {\n",
       "        text-align: right;\n",
       "    }\n",
       "</style>\n",
       "<table border=\"1\" class=\"dataframe\">\n",
       "  <thead>\n",
       "    <tr style=\"text-align: right;\">\n",
       "      <th></th>\n",
       "      <th>cont0</th>\n",
       "      <th>cont1</th>\n",
       "      <th>cont2</th>\n",
       "      <th>cont3</th>\n",
       "      <th>cont4</th>\n",
       "      <th>cont5</th>\n",
       "      <th>cont6</th>\n",
       "      <th>cont7</th>\n",
       "      <th>cont8</th>\n",
       "      <th>cont9</th>\n",
       "      <th>...</th>\n",
       "      <th>cont13</th>\n",
       "      <th>cat0</th>\n",
       "      <th>cat1</th>\n",
       "      <th>cat2</th>\n",
       "      <th>cat3</th>\n",
       "      <th>cat4</th>\n",
       "      <th>cat5</th>\n",
       "      <th>cat6</th>\n",
       "      <th>cat7</th>\n",
       "      <th>cat8</th>\n",
       "    </tr>\n",
       "    <tr>\n",
       "      <th>id</th>\n",
       "      <th></th>\n",
       "      <th></th>\n",
       "      <th></th>\n",
       "      <th></th>\n",
       "      <th></th>\n",
       "      <th></th>\n",
       "      <th></th>\n",
       "      <th></th>\n",
       "      <th></th>\n",
       "      <th></th>\n",
       "      <th></th>\n",
       "      <th></th>\n",
       "      <th></th>\n",
       "      <th></th>\n",
       "      <th></th>\n",
       "      <th></th>\n",
       "      <th></th>\n",
       "      <th></th>\n",
       "      <th></th>\n",
       "      <th></th>\n",
       "      <th></th>\n",
       "    </tr>\n",
       "  </thead>\n",
       "  <tbody>\n",
       "    <tr>\n",
       "      <th>298173</th>\n",
       "      <td>0.558652</td>\n",
       "      <td>0.364985</td>\n",
       "      <td>0.953177</td>\n",
       "      <td>0.261481</td>\n",
       "      <td>0.285042</td>\n",
       "      <td>0.366598</td>\n",
       "      <td>0.552537</td>\n",
       "      <td>0.242170</td>\n",
       "      <td>0.427087</td>\n",
       "      <td>0.413445</td>\n",
       "      <td>...</td>\n",
       "      <td>0.276961</td>\n",
       "      <td>A</td>\n",
       "      <td>A</td>\n",
       "      <td>A</td>\n",
       "      <td>C</td>\n",
       "      <td>B</td>\n",
       "      <td>B</td>\n",
       "      <td>A</td>\n",
       "      <td>E</td>\n",
       "      <td>C</td>\n",
       "    </tr>\n",
       "    <tr>\n",
       "      <th>299785</th>\n",
       "      <td>0.542071</td>\n",
       "      <td>0.309224</td>\n",
       "      <td>0.736795</td>\n",
       "      <td>0.455526</td>\n",
       "      <td>0.475618</td>\n",
       "      <td>0.386943</td>\n",
       "      <td>0.334639</td>\n",
       "      <td>0.256481</td>\n",
       "      <td>0.441711</td>\n",
       "      <td>0.423982</td>\n",
       "      <td>...</td>\n",
       "      <td>0.161990</td>\n",
       "      <td>A</td>\n",
       "      <td>B</td>\n",
       "      <td>B</td>\n",
       "      <td>C</td>\n",
       "      <td>B</td>\n",
       "      <td>B</td>\n",
       "      <td>A</td>\n",
       "      <td>E</td>\n",
       "      <td>C</td>\n",
       "    </tr>\n",
       "    <tr>\n",
       "      <th>141896</th>\n",
       "      <td>0.398638</td>\n",
       "      <td>0.619891</td>\n",
       "      <td>1.003411</td>\n",
       "      <td>0.543077</td>\n",
       "      <td>0.458128</td>\n",
       "      <td>0.361442</td>\n",
       "      <td>-0.179812</td>\n",
       "      <td>0.649192</td>\n",
       "      <td>0.408889</td>\n",
       "      <td>0.282222</td>\n",
       "      <td>...</td>\n",
       "      <td>0.256212</td>\n",
       "      <td>A</td>\n",
       "      <td>B</td>\n",
       "      <td>A</td>\n",
       "      <td>C</td>\n",
       "      <td>B</td>\n",
       "      <td>D</td>\n",
       "      <td>A</td>\n",
       "      <td>E</td>\n",
       "      <td>C</td>\n",
       "    </tr>\n",
       "    <tr>\n",
       "      <th>214015</th>\n",
       "      <td>0.079594</td>\n",
       "      <td>0.216732</td>\n",
       "      <td>0.343160</td>\n",
       "      <td>0.426862</td>\n",
       "      <td>0.274832</td>\n",
       "      <td>0.648311</td>\n",
       "      <td>0.568285</td>\n",
       "      <td>0.768072</td>\n",
       "      <td>0.569046</td>\n",
       "      <td>0.781905</td>\n",
       "      <td>...</td>\n",
       "      <td>0.170625</td>\n",
       "      <td>A</td>\n",
       "      <td>B</td>\n",
       "      <td>A</td>\n",
       "      <td>C</td>\n",
       "      <td>B</td>\n",
       "      <td>D</td>\n",
       "      <td>A</td>\n",
       "      <td>E</td>\n",
       "      <td>A</td>\n",
       "    </tr>\n",
       "    <tr>\n",
       "      <th>82082</th>\n",
       "      <td>0.514264</td>\n",
       "      <td>0.495396</td>\n",
       "      <td>0.602715</td>\n",
       "      <td>0.455140</td>\n",
       "      <td>0.964888</td>\n",
       "      <td>0.495950</td>\n",
       "      <td>0.432111</td>\n",
       "      <td>0.380077</td>\n",
       "      <td>0.264304</td>\n",
       "      <td>0.280083</td>\n",
       "      <td>...</td>\n",
       "      <td>0.289577</td>\n",
       "      <td>A</td>\n",
       "      <td>B</td>\n",
       "      <td>A</td>\n",
       "      <td>C</td>\n",
       "      <td>B</td>\n",
       "      <td>B</td>\n",
       "      <td>A</td>\n",
       "      <td>E</td>\n",
       "      <td>E</td>\n",
       "    </tr>\n",
       "  </tbody>\n",
       "</table>\n",
       "<p>5 rows × 23 columns</p>\n",
       "</div>"
      ],
      "text/plain": [
       "           cont0     cont1     cont2     cont3     cont4     cont5     cont6  \\\n",
       "id                                                                             \n",
       "298173  0.558652  0.364985  0.953177  0.261481  0.285042  0.366598  0.552537   \n",
       "299785  0.542071  0.309224  0.736795  0.455526  0.475618  0.386943  0.334639   \n",
       "141896  0.398638  0.619891  1.003411  0.543077  0.458128  0.361442 -0.179812   \n",
       "214015  0.079594  0.216732  0.343160  0.426862  0.274832  0.648311  0.568285   \n",
       "82082   0.514264  0.495396  0.602715  0.455140  0.964888  0.495950  0.432111   \n",
       "\n",
       "           cont7     cont8     cont9  ...    cont13  cat0  cat1  cat2 cat3  \\\n",
       "id                                    ...                                    \n",
       "298173  0.242170  0.427087  0.413445  ...  0.276961     A     A     A    C   \n",
       "299785  0.256481  0.441711  0.423982  ...  0.161990     A     B     B    C   \n",
       "141896  0.649192  0.408889  0.282222  ...  0.256212     A     B     A    C   \n",
       "214015  0.768072  0.569046  0.781905  ...  0.170625     A     B     A    C   \n",
       "82082   0.380077  0.264304  0.280083  ...  0.289577     A     B     A    C   \n",
       "\n",
       "       cat4 cat5 cat6 cat7 cat8  \n",
       "id                               \n",
       "298173    B    B    A    E    C  \n",
       "299785    B    B    A    E    C  \n",
       "141896    B    D    A    E    C  \n",
       "214015    B    D    A    E    A  \n",
       "82082     B    B    A    E    E  \n",
       "\n",
       "[5 rows x 23 columns]"
      ]
     },
     "execution_count": 24,
     "metadata": {},
     "output_type": "execute_result"
    }
   ],
   "source": [
    "X_train.head()"
   ]
  },
  {
   "cell_type": "code",
   "execution_count": null,
   "metadata": {},
   "outputs": [],
   "source": []
  },
  {
   "cell_type": "code",
   "execution_count": null,
   "metadata": {},
   "outputs": [],
   "source": []
  },
  {
   "cell_type": "code",
   "execution_count": null,
   "metadata": {},
   "outputs": [],
   "source": []
  },
  {
   "cell_type": "code",
   "execution_count": null,
   "metadata": {},
   "outputs": [],
   "source": []
  }
 ],
 "metadata": {
  "kernelspec": {
   "display_name": "Python 3",
   "language": "python",
   "name": "python3"
  },
  "language_info": {
   "codemirror_mode": {
    "name": "ipython",
    "version": 3
   },
   "file_extension": ".py",
   "mimetype": "text/x-python",
   "name": "python",
   "nbconvert_exporter": "python",
   "pygments_lexer": "ipython3",
   "version": "3.8.3"
  }
 },
 "nbformat": 4,
 "nbformat_minor": 4
}
